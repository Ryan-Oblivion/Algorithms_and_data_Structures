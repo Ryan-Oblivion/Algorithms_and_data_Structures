{
  "cells": [
    {
      "cell_type": "code",
      "execution_count": 7,
      "id": "dd7a45bc",
      "metadata": {
        "colab": {
          "base_uri": "https://localhost:8080/",
          "height": 53
        },
        "id": "dd7a45bc",
        "outputId": "e2727732-01c1-4b9d-a772-9fb082e44de4"
      },
      "outputs": [
        {
          "output_type": "execute_result",
          "data": {
            "application/vnd.google.colaboratory.intrinsic+json": {
              "type": "string"
            },
            "text/plain": [
              "' in this snippet of psudocode, there is a condition in the form of a while loop. this lets me know either one of two \\nthings can occur. it will carry out the operation only when i is greater than 0, then stop once its no longer\\nthe case. so the complexity would be n/2'"
            ]
          },
          "metadata": {},
          "execution_count": 7
        }
      ],
      "source": [
        "'''1 int a = 0 , b = 0;\n",
        "2 for ( i = 0; i < N ; i ++) {\n",
        "3 a = a + rand () ;\n",
        "4 }\n",
        "5 for ( j = 0; j < M ; j ++) {\n",
        "6 b = b + rand () ;\n",
        "7 }'''\n",
        "'''this problem looks like it has only N time complexity. the first line is just considered a constant and doesnt \n",
        "affect the calculation of the time complexity. the two for loops represent 2(n+1) and can be simplyfied to just\n",
        "n. so this is linear. this is because once n is large enough the other numbers matter very little.'''\n",
        "\n",
        "'''1 int l , t , k = 0;\n",
        "2 for ( l = n / 2; l <= n ; l ++) {\n",
        "3 for ( t = 2; t <= n ; t = t * 2) {\n",
        "4 k = k + n / 2;\n",
        "5 }\n",
        "6 }'''\n",
        "'''in this snippet of psudocode, we see there is a for loop nested in another for loop. this tells me, while ignoring \n",
        "the constants once again, that the time complexity would be n^2 or n*n. this can be considered quadratic.'''\n",
        "\n",
        "'''1 int a = 0 , i = N ;\n",
        "2 while ( i > 0) {\n",
        "3 a += i ;\n",
        "4 i /= 2;\n",
        "5 }'''\n",
        "''' in this snippet of psudocode, there is a condition in the form of a while loop. this lets me know either one of two \n",
        "things can occur. it will carry out the operation only when i is greater than 0, then stop once its no longer\n",
        "the case. so the complexity would be n/2'''"
      ]
    },
    {
      "cell_type": "code",
      "execution_count": 15,
      "id": "1f35d989",
      "metadata": {
        "colab": {
          "base_uri": "https://localhost:8080/"
        },
        "id": "1f35d989",
        "outputId": "8bedd0c7-b1f1-4667-a820-83b35029c65f"
      },
      "outputs": [
        {
          "output_type": "stream",
          "name": "stdout",
          "text": [
            "please input your dna sequence so i can transcribe it: \n",
            "ATGGAACTTGACTACGTAAATT\n",
            "AUGGAACUUGACUACGUAAAUU\n"
          ]
        }
      ],
      "source": [
        "#problem number 2\n",
        "print('please input your dna sequence so i can transcribe it: ' )\n",
        "\n",
        "'''input this dna code to check ATGGAACTTGACTACGTAAATT'''\n",
        "dna_t = input()\n",
        "\n",
        "rna_u = dna_t.replace('T','U')\n",
        "'''I think the time complexity and the space complexity are optimized using this code\n",
        "because only two actions are running, one in which the program asks for an input of dna sequence, and another where\n",
        "all the T's are being replaced by U's. also\n",
        "this is only two lines of code.'''\n",
        "print(rna_u)\n"
      ]
    },
    {
      "cell_type": "code",
      "execution_count": 17,
      "id": "83da517f",
      "metadata": {
        "colab": {
          "base_uri": "https://localhost:8080/",
          "height": 105
        },
        "id": "83da517f",
        "outputId": "5c8566d7-ca23-476e-cb9e-d2fafcfa3b7c"
      },
      "outputs": [
        {
          "output_type": "stream",
          "name": "stdout",
          "text": [
            "AAAACCCGGT\n",
            "TTTTGGGCCA\n",
            "['A', 'C', 'C', 'G', 'G', 'G', 'T', 'T', 'T', 'T']\n",
            "ACCGGGTTTT\n"
          ]
        },
        {
          "output_type": "execute_result",
          "data": {
            "application/vnd.google.colaboratory.intrinsic+json": {
              "type": "string"
            },
            "text/plain": [
              "' this may not be the lowest in time complextiy because i am asking the program to\\npreform up to 8 actions, thus when implementing a large data set it may take awhile'"
            ]
          },
          "metadata": {},
          "execution_count": 17
        }
      ],
      "source": [
        "#problem number 3\n",
        "dna_s = input()\n",
        "'use this nucleotide code as input to check AAAACCCGGT'\n",
        "# i needed to first replace all the nucleotides with their lowercase counterparts then make them uppercase\n",
        "A_c = dna_s.replace('A','t')\n",
        "T_c = A_c.replace('T','a')\n",
        "C_c = T_c.replace('C', 'g')\n",
        "G_c = C_c.replace('G','c')\n",
        "dna_c = G_c.upper()\n",
        "print(dna_c)\n",
        "\n",
        "#next i need to make the complement a list so i can use the list operation and reverse it\n",
        "cdna_s = list(dna_c)\n",
        "\n",
        "cdna_s.reverse()\n",
        "\n",
        "print(cdna_s)\n",
        "\n",
        "# here i wanted to join the reverse complement back into a list, then print the result \n",
        "rc_dna_s = (''.join(cdna_s))\n",
        "print(rc_dna_s)\n",
        "\n",
        "''' this may not be the lowest in time complextiy because i am asking the program to\n",
        "preform up to 8 actions, thus when implementing a large data set it may take awhile'''\n"
      ]
    },
    {
      "cell_type": "code",
      "execution_count": 18,
      "id": "eb848764",
      "metadata": {
        "colab": {
          "base_uri": "https://localhost:8080/",
          "height": 105
        },
        "id": "eb848764",
        "outputId": "e822ddbd-90a0-4b24-b1cf-527ba2cca4f7"
      },
      "outputs": [
        {
          "output_type": "stream",
          "name": "stdout",
          "text": [
            "AAAACCCGGT\n",
            "ACCGGGTTTT\n"
          ]
        },
        {
          "output_type": "execute_result",
          "data": {
            "application/vnd.google.colaboratory.intrinsic+json": {
              "type": "string"
            },
            "text/plain": [
              "' this is the same as the previous. i decided to make another code that does the same thing. in this one i used a \\nfor loop and put if else if statements inside. this may have a different time complexity than the other one. i would\\nsay it may be a log(n) or and n*n conplexity. the code inside the for loop is checking every neucleotide to see if \\nit is either an A,T,G,C. then if it is one it will carry out the desired change to the string. this may work a lot better \\nwith larger data sets.'"
            ]
          },
          "metadata": {},
          "execution_count": 18
        }
      ],
      "source": [
        "#problem number 3 new code\n",
        "dna_s = input() \n",
        "'use this nucleotide code as input to check AAAACCCGGT'\n",
        "new_s = ()\n",
        "for n in dna_s:\n",
        "    if 'A' in n:\n",
        "        new_s = dna_s.replace('A','t')\n",
        "    elif 'T' in n:\n",
        "        new_s = new_s.replace('T','a')\n",
        "    elif 'G' in n:\n",
        "        new_s = new_s.replace('G','c')\n",
        "    elif 'C' in n:\n",
        "        new_s = new_s.replace('C','g')\n",
        "    \n",
        "        \n",
        "    \n",
        "new_U_s = new_s.upper()\n",
        "newL = list(new_U_s)\n",
        "\n",
        "newL.reverse()\n",
        "\n",
        "cDNA = (''.join(newL))\n",
        "print(cDNA)\n",
        "''' this is the same as the previous. i decided to make another code that does the same thing. in this one i used a \n",
        "for loop and put if else if statements inside. this may have a different time complexity than the other one. i would\n",
        "say it may be a log(n) or and n*n conplexity. the code inside the for loop is checking every neucleotide to see if \n",
        "it is either an A,T,G,C. then if it is one it will carry out the desired change to the string. this may work a lot better \n",
        "with larger data sets.'''\n",
        "        "
      ]
    },
    {
      "cell_type": "code",
      "execution_count": null,
      "id": "5810cf4b",
      "metadata": {
        "id": "5810cf4b"
      },
      "outputs": [],
      "source": [
        ""
      ]
    }
  ],
  "metadata": {
    "kernelspec": {
      "display_name": "Python 3 (ipykernel)",
      "language": "python",
      "name": "python3"
    },
    "language_info": {
      "codemirror_mode": {
        "name": "ipython",
        "version": 3
      },
      "file_extension": ".py",
      "mimetype": "text/x-python",
      "name": "python",
      "nbconvert_exporter": "python",
      "pygments_lexer": "ipython3",
      "version": "3.9.7"
    },
    "colab": {
      "name": "assignment 1.ipynb",
      "provenance": [],
      "collapsed_sections": []
    }
  },
  "nbformat": 4,
  "nbformat_minor": 5
}